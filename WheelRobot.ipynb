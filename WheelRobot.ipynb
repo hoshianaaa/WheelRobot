{
 "cells": [
  {
   "cell_type": "code",
   "execution_count": 1,
   "metadata": {},
   "outputs": [],
   "source": [
    "import matplotlib.pyplot as plt                  ### fig:robot_header\n",
    "import math                          #2-4行目を追加\n",
    "import matplotlib.patches as patches\n",
    "import numpy as np"
   ]
  },
  {
   "cell_type": "code",
   "execution_count": 2,
   "metadata": {},
   "outputs": [],
   "source": [
    "class World:\n",
    "    def __init__(self):\n",
    "        self.objects = []             # ここにロボットなどのオブジェクトを登録\n",
    "        \n",
    "    def append(self,obj):             # オブジェクトを登録するための関数\n",
    "        self.objects.append(obj)\n",
    "    \n",
    "    def draw(self):\n",
    "        fig = plt.figure(figsize=(8,8))                # 8x8 inchの図を準備\n",
    "        ax = fig.add_subplot(111)                      # サブプロットを準備\n",
    "        ax.set_aspect('equal')                         # 縦横比を座標の値と一致させる\n",
    "        ax.set_xlim(-5,5)                              # X軸を-5m x 5mの範囲で描画\n",
    "        ax.set_ylim(-5,5)                              # Y軸も同様に\n",
    "        ax.set_xlabel(\"X\",fontsize=20)                 # X軸にラベルを表示\n",
    "        ax.set_ylabel(\"Y\",fontsize=20)                 # 同じくY軸に\n",
    "        \n",
    "        for obj in self.objects: obj.draw(ax)           # appendした物体を次々に描画\n",
    "            \n",
    "        plt.show()"
   ]
  },
  {
   "cell_type": "code",
   "execution_count": 30,
   "metadata": {},
   "outputs": [],
   "source": [
    "class IdealRobot:                                        # fig:idealrobot\n",
    "    def __init__(self, pose, color=\"black\"):\n",
    "        self.pose = pose        # 引数から姿勢の初期値を設定\n",
    "        self.r = 0.2            # これは描画のためなので固定値\n",
    "        self.color = color      # 引数から描画するときの色を設定\n",
    "        \n",
    "    def draw(self, ax):\n",
    "        x, y, theta = self.pose                   # 姿勢の変数を分解して3つの変数へ\n",
    "        xn = x + self.r * math.cos(theta)         #  ロボットの鼻先のx座標 \n",
    "        yn = y + self.r * math.sin(theta)         #  ロボットの鼻先のy座標 \n",
    "        ax.plot([x,xn], [y,yn], color=self.color) # ロボットの向きを示す線分の描画\n",
    "        #c = patches.Circle(xy=(x, y), radius=self.r, fill=False, color=self.color) \n",
    "        \n",
    "        ###ここから変更###\n",
    "        width = self.r*3\n",
    "        height = self.r*2\n",
    "        sqrt = math.sqrt(pow(width/2,2)+pow(height/2,2))#四角形の中点までの長さ\n",
    "        ini_ang = math.atan(height/width)\n",
    "        ang = ini_ang + theta      \n",
    "        x_bias = sqrt*math.cos(ang)\n",
    "        y_bias = sqrt*math.sin(ang)\n",
    "        \n",
    "        wheel_w = width/3\n",
    "        wheel_h = height/3\n",
    "        wheel_sqrt = math.sqrt(pow(wheel_w/2,2)+pow(wheel_h/2,2))\n",
    "        wheel_robot_bias = height/2+wheel_h/2#wheelとロボットの距離\n",
    "        x_bias_wheel = wheel_sqrt*math.cos(ang)\n",
    "        y_bias_wheel = wheel_sqrt*math.sin(ang)\n",
    "        x_bias_wheel_R = wheel_robot_bias*math.cos(theta-math.pi/2)\n",
    "        y_bias_wheel_R = wheel_robot_bias*math.sin(theta-math.pi/2)\n",
    "        x_bias_wheel_L = wheel_robot_bias*math.cos(theta+math.pi/2)\n",
    "        y_bias_wheel_L = wheel_robot_bias*math.sin(theta+math.pi/2)        \n",
    "            \n",
    "        \n",
    "        r = patches.Rectangle(xy=(x-x_bias, y-y_bias),angle = theta/math.pi*180, width=width, height=height, ec='#000000', fill=False)\n",
    "        r_r = patches.Rectangle(xy=(x-x_bias_wheel+x_bias_wheel_R, y-y_bias_wheel+y_bias_wheel_R),angle = theta/math.pi*180, width=wheel_w, height=wheel_h, ec='#000000', fill=False)\n",
    "        r_l = patches.Rectangle(xy=(x-x_bias_wheel+x_bias_wheel_L, y-y_bias_wheel+y_bias_wheel_L),angle = theta/math.pi*180, width=wheel_w, height=wheel_h, ec='#000000', fill=False)\n",
    "        ###ここまで###\n",
    "        \n",
    "        ax.add_patch(r)   # 上のpatches.Circleでロボットの胴体を示す円を作ってサブプロットへ登録\n",
    "        ax.add_patch(r_r)\n",
    "        ax.add_patch(r_l)"
   ]
  },
  {
   "cell_type": "code",
   "execution_count": 31,
   "metadata": {},
   "outputs": [
    {
     "data": {
      "image/png": "[encoded data removed]",
      "text/plain": [
       "<matplotlib.figure.Figure at 0x22d63859ef0>"
      ]
     },
     "metadata": {},
     "output_type": "display_data"
    }
   ],
   "source": [
    "world = World()            ### fig:execution_robot_class\n",
    "# world.draw()         # これは削除\n",
    "### 以下追加 ###\n",
    "robot1 = IdealRobot( np.array([2, 3, math.pi/3]).T )           # ロボットのインスタンス生成（色を省略）\n",
    "robot2 = IdealRobot( np.array([-2, -1, math.pi/5*6]).T, \"red\")  # ロボットのインスタンス生成（色を指定）\n",
    "world.append(robot1)                                      # ロボットを登録 \n",
    "world.append(robot2)\n",
    "world.draw()"
   ]
  },
  {
   "cell_type": "code",
   "execution_count": null,
   "metadata": {},
   "outputs": [],
   "source": []
  },
  {
   "cell_type": "code",
   "execution_count": null,
   "metadata": {},
   "outputs": [],
   "source": []
  }
 ],
 "metadata": {
  "kernelspec": {
   "display_name": "Python 3",
   "language": "python",
   "name": "python3"
  },
  "language_info": {
   "codemirror_mode": {
    "name": "ipython",
    "version": 3
   },
   "file_extension": ".py",
   "mimetype": "text/x-python",
   "name": "python",
   "nbconvert_exporter": "python",
   "pygments_lexer": "ipython3",
   "version": "3.6.4"
  }
 },
 "nbformat": 4,
 "nbformat_minor": 2
}
